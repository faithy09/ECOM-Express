{
 "cells": [
  {
   "cell_type": "code",
   "execution_count": 3,
   "id": "6d6e380a-f61e-434c-8f7a-e44c3a841125",
   "metadata": {},
   "outputs": [],
   "source": [
    "import pandas as pd\n",
    "import numpy as np\n",
    "import seaborn as sns\n",
    "import matplotlib.pyplot as plt\n",
    "import missingno as msno\n"
   ]
  },
  {
   "cell_type": "code",
   "execution_count": 7,
   "id": "c06d4229-1842-4861-ae94-74bd2a5da954",
   "metadata": {},
   "outputs": [
    {
     "data": {
      "text/html": [
       "<div>\n",
       "<style scoped>\n",
       "    .dataframe tbody tr th:only-of-type {\n",
       "        vertical-align: middle;\n",
       "    }\n",
       "\n",
       "    .dataframe tbody tr th {\n",
       "        vertical-align: top;\n",
       "    }\n",
       "\n",
       "    .dataframe thead th {\n",
       "        text-align: right;\n",
       "    }\n",
       "</style>\n",
       "<table border=\"1\" class=\"dataframe\">\n",
       "  <thead>\n",
       "    <tr style=\"text-align: right;\">\n",
       "      <th></th>\n",
       "      <th>order_date</th>\n",
       "      <th>customer_id</th>\n",
       "      <th>order_status</th>\n",
       "      <th>offer_id</th>\n",
       "      <th>loyalty_status</th>\n",
       "      <th>price</th>\n",
       "      <th>offer_value</th>\n",
       "    </tr>\n",
       "  </thead>\n",
       "  <tbody>\n",
       "    <tr>\n",
       "      <th>0</th>\n",
       "      <td>03/06/2025</td>\n",
       "      <td>3702</td>\n",
       "      <td>Abandoned</td>\n",
       "      <td>4Y0WBIC</td>\n",
       "      <td>New</td>\n",
       "      <td>135.39</td>\n",
       "      <td>Free Shipping</td>\n",
       "    </tr>\n",
       "    <tr>\n",
       "      <th>1</th>\n",
       "      <td>29/06/2025</td>\n",
       "      <td>6905</td>\n",
       "      <td>Abandoned</td>\n",
       "      <td>4Y0WBIC</td>\n",
       "      <td>New</td>\n",
       "      <td>678.46</td>\n",
       "      <td>Free Shipping</td>\n",
       "    </tr>\n",
       "    <tr>\n",
       "      <th>2</th>\n",
       "      <td>01/06/2025</td>\n",
       "      <td>7683</td>\n",
       "      <td>Abandoned</td>\n",
       "      <td>4Y0WBIC</td>\n",
       "      <td>Occasional</td>\n",
       "      <td>252.10</td>\n",
       "      <td>Free Shipping</td>\n",
       "    </tr>\n",
       "    <tr>\n",
       "      <th>3</th>\n",
       "      <td>17/06/2025</td>\n",
       "      <td>10550</td>\n",
       "      <td>Abandoned</td>\n",
       "      <td>4Y0WBIC</td>\n",
       "      <td>Loyal</td>\n",
       "      <td>135.39</td>\n",
       "      <td>Free Shipping</td>\n",
       "    </tr>\n",
       "    <tr>\n",
       "      <th>4</th>\n",
       "      <td>18/06/2025</td>\n",
       "      <td>12922</td>\n",
       "      <td>Abandoned</td>\n",
       "      <td>4Y0WBIC</td>\n",
       "      <td>Loyal</td>\n",
       "      <td>220.57</td>\n",
       "      <td>Free Shipping</td>\n",
       "    </tr>\n",
       "  </tbody>\n",
       "</table>\n",
       "</div>"
      ],
      "text/plain": [
       "   order_date  customer_id order_status offer_id loyalty_status   price  \\\n",
       "0  03/06/2025         3702    Abandoned  4Y0WBIC            New  135.39   \n",
       "1  29/06/2025         6905    Abandoned  4Y0WBIC            New  678.46   \n",
       "2  01/06/2025         7683    Abandoned  4Y0WBIC     Occasional  252.10   \n",
       "3  17/06/2025        10550    Abandoned  4Y0WBIC          Loyal  135.39   \n",
       "4  18/06/2025        12922    Abandoned  4Y0WBIC          Loyal  220.57   \n",
       "\n",
       "     offer_value  \n",
       "0  Free Shipping  \n",
       "1  Free Shipping  \n",
       "2  Free Shipping  \n",
       "3  Free Shipping  \n",
       "4  Free Shipping  "
      ]
     },
     "execution_count": 7,
     "metadata": {},
     "output_type": "execute_result"
    }
   ],
   "source": [
    "df = pd.read_csv(r\"C:\\Users\\Admin\\OneDrive\\Desktop\\E_Com Express Data - Copy.csv\")\n",
    "df.head()\n",
    "\n",
    "import pandas as pd\n",
    "\n",
    "# Preview data\n",
    "df.head()\n"
   ]
  },
  {
   "cell_type": "code",
   "execution_count": 35,
   "id": "3c67fbab-b8a9-49e3-b964-23f42db2a809",
   "metadata": {},
   "outputs": [
    {
     "name": "stdout",
     "output_type": "stream",
     "text": [
      "<class 'pandas.core.frame.DataFrame'>\n",
      "RangeIndex: 32612 entries, 0 to 32611\n",
      "Data columns (total 7 columns):\n",
      " #   Column          Non-Null Count  Dtype  \n",
      "---  ------          --------------  -----  \n",
      " 0   order_date      32612 non-null  object \n",
      " 1   customer_id     32612 non-null  int64  \n",
      " 2   order_status    32612 non-null  object \n",
      " 3   offer_id        32612 non-null  object \n",
      " 4   loyalty_status  32612 non-null  object \n",
      " 5   price           32612 non-null  float64\n",
      " 6   offer_value     32612 non-null  object \n",
      "dtypes: float64(1), int64(1), object(5)\n",
      "memory usage: 1.7+ MB\n"
     ]
    }
   ],
   "source": [
    "df.info()"
   ]
  },
  {
   "cell_type": "code",
   "execution_count": 37,
   "id": "5818365a-2c57-46a7-8c85-325f128aefb7",
   "metadata": {},
   "outputs": [
    {
     "data": {
      "text/plain": [
       "(32612, 7)"
      ]
     },
     "execution_count": 37,
     "metadata": {},
     "output_type": "execute_result"
    }
   ],
   "source": [
    "#dimensionality\n",
    "df.shape"
   ]
  },
  {
   "cell_type": "code",
   "execution_count": 39,
   "id": "6589b1b4-733a-4b53-8f38-755bc59fa1d8",
   "metadata": {},
   "outputs": [
    {
     "data": {
      "text/html": [
       "<div>\n",
       "<style scoped>\n",
       "    .dataframe tbody tr th:only-of-type {\n",
       "        vertical-align: middle;\n",
       "    }\n",
       "\n",
       "    .dataframe tbody tr th {\n",
       "        vertical-align: top;\n",
       "    }\n",
       "\n",
       "    .dataframe thead th {\n",
       "        text-align: right;\n",
       "    }\n",
       "</style>\n",
       "<table border=\"1\" class=\"dataframe\">\n",
       "  <thead>\n",
       "    <tr style=\"text-align: right;\">\n",
       "      <th></th>\n",
       "      <th>customer_id</th>\n",
       "      <th>price</th>\n",
       "    </tr>\n",
       "  </thead>\n",
       "  <tbody>\n",
       "    <tr>\n",
       "      <th>count</th>\n",
       "      <td>3.261200e+04</td>\n",
       "      <td>32612.000000</td>\n",
       "    </tr>\n",
       "    <tr>\n",
       "      <th>mean</th>\n",
       "      <td>2.948584e+06</td>\n",
       "      <td>265.789711</td>\n",
       "    </tr>\n",
       "    <tr>\n",
       "      <th>std</th>\n",
       "      <td>1.192758e+06</td>\n",
       "      <td>319.973804</td>\n",
       "    </tr>\n",
       "    <tr>\n",
       "      <th>min</th>\n",
       "      <td>3.702000e+03</td>\n",
       "      <td>5.040000</td>\n",
       "    </tr>\n",
       "    <tr>\n",
       "      <th>25%</th>\n",
       "      <td>1.945743e+06</td>\n",
       "      <td>42.910000</td>\n",
       "    </tr>\n",
       "    <tr>\n",
       "      <th>50%</th>\n",
       "      <td>2.950393e+06</td>\n",
       "      <td>103.280000</td>\n",
       "    </tr>\n",
       "    <tr>\n",
       "      <th>75%</th>\n",
       "      <td>3.969473e+06</td>\n",
       "      <td>371.350000</td>\n",
       "    </tr>\n",
       "    <tr>\n",
       "      <th>max</th>\n",
       "      <td>4.999556e+06</td>\n",
       "      <td>1333.030000</td>\n",
       "    </tr>\n",
       "  </tbody>\n",
       "</table>\n",
       "</div>"
      ],
      "text/plain": [
       "        customer_id         price\n",
       "count  3.261200e+04  32612.000000\n",
       "mean   2.948584e+06    265.789711\n",
       "std    1.192758e+06    319.973804\n",
       "min    3.702000e+03      5.040000\n",
       "25%    1.945743e+06     42.910000\n",
       "50%    2.950393e+06    103.280000\n",
       "75%    3.969473e+06    371.350000\n",
       "max    4.999556e+06   1333.030000"
      ]
     },
     "execution_count": 39,
     "metadata": {},
     "output_type": "execute_result"
    }
   ],
   "source": [
    "df.describe()"
   ]
  },
  {
   "cell_type": "code",
   "execution_count": 41,
   "id": "75690eb5-ee0b-429a-abf0-b5e14f850864",
   "metadata": {},
   "outputs": [
    {
     "data": {
      "text/html": [
       "<div>\n",
       "<style scoped>\n",
       "    .dataframe tbody tr th:only-of-type {\n",
       "        vertical-align: middle;\n",
       "    }\n",
       "\n",
       "    .dataframe tbody tr th {\n",
       "        vertical-align: top;\n",
       "    }\n",
       "\n",
       "    .dataframe thead th {\n",
       "        text-align: right;\n",
       "    }\n",
       "</style>\n",
       "<table border=\"1\" class=\"dataframe\">\n",
       "  <thead>\n",
       "    <tr style=\"text-align: right;\">\n",
       "      <th></th>\n",
       "      <th>order_date</th>\n",
       "      <th>order_status</th>\n",
       "      <th>offer_id</th>\n",
       "      <th>loyalty_status</th>\n",
       "      <th>offer_value</th>\n",
       "    </tr>\n",
       "  </thead>\n",
       "  <tbody>\n",
       "    <tr>\n",
       "      <th>count</th>\n",
       "      <td>32612</td>\n",
       "      <td>32612</td>\n",
       "      <td>32612</td>\n",
       "      <td>32612</td>\n",
       "      <td>32612</td>\n",
       "    </tr>\n",
       "    <tr>\n",
       "      <th>unique</th>\n",
       "      <td>30</td>\n",
       "      <td>2</td>\n",
       "      <td>2</td>\n",
       "      <td>3</td>\n",
       "      <td>2</td>\n",
       "    </tr>\n",
       "    <tr>\n",
       "      <th>top</th>\n",
       "      <td>12/06/2025</td>\n",
       "      <td>Abandoned</td>\n",
       "      <td>05S3TFG</td>\n",
       "      <td>New</td>\n",
       "      <td>25%</td>\n",
       "    </tr>\n",
       "    <tr>\n",
       "      <th>freq</th>\n",
       "      <td>1349</td>\n",
       "      <td>29408</td>\n",
       "      <td>16493</td>\n",
       "      <td>31348</td>\n",
       "      <td>16493</td>\n",
       "    </tr>\n",
       "  </tbody>\n",
       "</table>\n",
       "</div>"
      ],
      "text/plain": [
       "        order_date order_status offer_id loyalty_status offer_value\n",
       "count        32612        32612    32612          32612       32612\n",
       "unique          30            2        2              3           2\n",
       "top     12/06/2025    Abandoned  05S3TFG            New         25%\n",
       "freq          1349        29408    16493          31348       16493"
      ]
     },
     "execution_count": 41,
     "metadata": {},
     "output_type": "execute_result"
    }
   ],
   "source": [
    "df.describe(include=\"object\")"
   ]
  },
  {
   "cell_type": "code",
   "execution_count": 43,
   "id": "38ebb4bd-ab21-4103-920a-0dd6a9649dca",
   "metadata": {},
   "outputs": [
    {
     "data": {
      "text/plain": [
       "order_date        0\n",
       "customer_id       0\n",
       "order_status      0\n",
       "offer_id          0\n",
       "loyalty_status    0\n",
       "price             0\n",
       "offer_value       0\n",
       "dtype: int64"
      ]
     },
     "execution_count": 43,
     "metadata": {},
     "output_type": "execute_result"
    }
   ],
   "source": [
    "#to check missing value\n",
    "df.isna().sum()"
   ]
  },
  {
   "cell_type": "code",
   "execution_count": 13,
   "id": "a80f7924-12e1-45bc-b7e3-f867dc71b667",
   "metadata": {},
   "outputs": [
    {
     "data": {
      "text/html": [
       "<div>\n",
       "<style scoped>\n",
       "    .dataframe tbody tr th:only-of-type {\n",
       "        vertical-align: middle;\n",
       "    }\n",
       "\n",
       "    .dataframe tbody tr th {\n",
       "        vertical-align: top;\n",
       "    }\n",
       "\n",
       "    .dataframe thead th {\n",
       "        text-align: right;\n",
       "    }\n",
       "</style>\n",
       "<table border=\"1\" class=\"dataframe\">\n",
       "  <thead>\n",
       "    <tr style=\"text-align: right;\">\n",
       "      <th>order_status</th>\n",
       "      <th>Abandoned</th>\n",
       "      <th>Completed</th>\n",
       "      <th>Conversion Rate (%)</th>\n",
       "    </tr>\n",
       "    <tr>\n",
       "      <th>offer_value</th>\n",
       "      <th></th>\n",
       "      <th></th>\n",
       "      <th></th>\n",
       "    </tr>\n",
       "  </thead>\n",
       "  <tbody>\n",
       "    <tr>\n",
       "      <th>25%</th>\n",
       "      <td>14878</td>\n",
       "      <td>1615</td>\n",
       "      <td>9.792033</td>\n",
       "    </tr>\n",
       "    <tr>\n",
       "      <th>Free Shipping</th>\n",
       "      <td>14530</td>\n",
       "      <td>1589</td>\n",
       "      <td>9.857932</td>\n",
       "    </tr>\n",
       "  </tbody>\n",
       "</table>\n",
       "</div>"
      ],
      "text/plain": [
       "order_status   Abandoned  Completed  Conversion Rate (%)\n",
       "offer_value                                             \n",
       "25%                14878       1615             9.792033\n",
       "Free Shipping      14530       1589             9.857932"
      ]
     },
     "execution_count": 13,
     "metadata": {},
     "output_type": "execute_result"
    }
   ],
   "source": [
    "#Conversion Rate by Offer Type\n",
    "\n",
    "# Total and completed orders per offer\n",
    "conversion = df.groupby(['offer_value', 'order_status'])['offer_id'].count().unstack().fillna(0)\n",
    "\n",
    "# Add conversion rate column\n",
    "conversion['Conversion Rate (%)'] = (conversion.get('Completed', 0) / conversion.sum(axis=1)) * 100\n",
    "conversion\n"
   ]
  },
  {
   "cell_type": "code",
   "execution_count": 15,
   "id": "161c4e64-5cdd-497f-a78c-f69212e8883a",
   "metadata": {},
   "outputs": [
    {
     "data": {
      "text/plain": [
       "offer_value\n",
       "25%              402.23\n",
       "Free Shipping    400.25\n",
       "Name: Average Order Value ($), dtype: float64"
      ]
     },
     "execution_count": 15,
     "metadata": {},
     "output_type": "execute_result"
    }
   ],
   "source": [
    "# Average Order Value by Offer\n",
    "\n",
    "aov = df[df['order_status'] == 'Completed'].groupby('offer_value')['price'].mean().round(2)\n",
    "aov.name = 'Average Order Value ($)'\n",
    "aov\n"
   ]
  },
  {
   "cell_type": "code",
   "execution_count": 19,
   "id": "d10c9b1e-3367-4af0-b369-7da61262c7f1",
   "metadata": {},
   "outputs": [
    {
     "data": {
      "text/plain": [
       "offer_value\n",
       "25%              90.207967\n",
       "Free Shipping    90.142068\n",
       "Name: Abandonment Rate (%), dtype: float64"
      ]
     },
     "execution_count": 19,
     "metadata": {},
     "output_type": "execute_result"
    }
   ],
   "source": [
    "# Cart Abadonment Rate\n",
    "abandon_rate = (df[df['order_status'] == 'Abandoned'].groupby('offer_value')['offer_id'].count() /\n",
    "                df.groupby('offer_value')['offer_id'].count()) * 100\n",
    "abandon_rate.name = 'Abandonment Rate (%)'\n",
    "abandon_rate\n"
   ]
  },
  {
   "cell_type": "code",
   "execution_count": 21,
   "id": "d0040dd2-c5bc-4223-a58a-5c19089ad28d",
   "metadata": {},
   "outputs": [
    {
     "data": {
      "text/plain": [
       "offer_value\n",
       "25%              649606.16\n",
       "Free Shipping    635995.66\n",
       "Name: Total Revenue ($), dtype: float64"
      ]
     },
     "execution_count": 21,
     "metadata": {},
     "output_type": "execute_result"
    }
   ],
   "source": [
    "# Revenue by Offer\n",
    "revenue = df[df['order_status'] == 'Completed'].groupby('offer_value')['price'].sum().round(2)\n",
    "revenue.name = 'Total Revenue ($)'\n",
    "revenue\n"
   ]
  },
  {
   "cell_type": "code",
   "execution_count": 23,
   "id": "e2a8aec7-b015-4c1e-9575-314f1891b3f3",
   "metadata": {},
   "outputs": [
    {
     "data": {
      "text/html": [
       "<div>\n",
       "<style scoped>\n",
       "    .dataframe tbody tr th:only-of-type {\n",
       "        vertical-align: middle;\n",
       "    }\n",
       "\n",
       "    .dataframe tbody tr th {\n",
       "        vertical-align: top;\n",
       "    }\n",
       "\n",
       "    .dataframe thead th {\n",
       "        text-align: right;\n",
       "    }\n",
       "</style>\n",
       "<table border=\"1\" class=\"dataframe\">\n",
       "  <thead>\n",
       "    <tr style=\"text-align: right;\">\n",
       "      <th></th>\n",
       "      <th>Conversion Rate (%)</th>\n",
       "      <th>Average Order Value ($)</th>\n",
       "      <th>Abandonment Rate (%)</th>\n",
       "      <th>Total Revenue ($)</th>\n",
       "    </tr>\n",
       "    <tr>\n",
       "      <th>offer_value</th>\n",
       "      <th></th>\n",
       "      <th></th>\n",
       "      <th></th>\n",
       "      <th></th>\n",
       "    </tr>\n",
       "  </thead>\n",
       "  <tbody>\n",
       "    <tr>\n",
       "      <th>25%</th>\n",
       "      <td>9.792033</td>\n",
       "      <td>402.23</td>\n",
       "      <td>90.207967</td>\n",
       "      <td>649606.16</td>\n",
       "    </tr>\n",
       "    <tr>\n",
       "      <th>Free Shipping</th>\n",
       "      <td>9.857932</td>\n",
       "      <td>400.25</td>\n",
       "      <td>90.142068</td>\n",
       "      <td>635995.66</td>\n",
       "    </tr>\n",
       "  </tbody>\n",
       "</table>\n",
       "</div>"
      ],
      "text/plain": [
       "               Conversion Rate (%)  Average Order Value ($)  \\\n",
       "offer_value                                                   \n",
       "25%                       9.792033                   402.23   \n",
       "Free Shipping             9.857932                   400.25   \n",
       "\n",
       "               Abandonment Rate (%)  Total Revenue ($)  \n",
       "offer_value                                             \n",
       "25%                       90.207967          649606.16  \n",
       "Free Shipping             90.142068          635995.66  "
      ]
     },
     "execution_count": 23,
     "metadata": {},
     "output_type": "execute_result"
    }
   ],
   "source": [
    "# Combine Key Metric\n",
    "summary = pd.concat([conversion['Conversion Rate (%)'], aov, abandon_rate, revenue], axis=1).fillna(0)\n",
    "summary.sort_values('Total Revenue ($)', ascending=False)\n"
   ]
  },
  {
   "cell_type": "code",
   "execution_count": 25,
   "id": "c20b5f95-a3d7-4a57-a3b6-81cf7a4164c3",
   "metadata": {},
   "outputs": [
    {
     "name": "stdout",
     "output_type": "stream",
     "text": [
      "Requirement already satisfied: pandas in c:\\users\\admin\\anaconda3\\lib\\site-packages (2.1.4)\n",
      "Requirement already satisfied: matplotlib in c:\\users\\admin\\anaconda3\\lib\\site-packages (3.8.0)\n",
      "Requirement already satisfied: seaborn in c:\\users\\admin\\anaconda3\\lib\\site-packages (0.12.2)\n",
      "Requirement already satisfied: openpyxl in c:\\users\\admin\\anaconda3\\lib\\site-packages (3.0.10)\n",
      "Requirement already satisfied: numpy<2,>=1.23.2 in c:\\users\\admin\\anaconda3\\lib\\site-packages (from pandas) (1.26.4)\n",
      "Requirement already satisfied: python-dateutil>=2.8.2 in c:\\users\\admin\\anaconda3\\lib\\site-packages (from pandas) (2.8.2)\n",
      "Requirement already satisfied: pytz>=2020.1 in c:\\users\\admin\\anaconda3\\lib\\site-packages (from pandas) (2023.3.post1)\n",
      "Requirement already satisfied: tzdata>=2022.1 in c:\\users\\admin\\anaconda3\\lib\\site-packages (from pandas) (2023.3)\n",
      "Requirement already satisfied: contourpy>=1.0.1 in c:\\users\\admin\\anaconda3\\lib\\site-packages (from matplotlib) (1.2.0)\n",
      "Requirement already satisfied: cycler>=0.10 in c:\\users\\admin\\anaconda3\\lib\\site-packages (from matplotlib) (0.11.0)\n",
      "Requirement already satisfied: fonttools>=4.22.0 in c:\\users\\admin\\anaconda3\\lib\\site-packages (from matplotlib) (4.25.0)\n",
      "Requirement already satisfied: kiwisolver>=1.0.1 in c:\\users\\admin\\anaconda3\\lib\\site-packages (from matplotlib) (1.4.4)\n",
      "Requirement already satisfied: packaging>=20.0 in c:\\users\\admin\\anaconda3\\lib\\site-packages (from matplotlib) (23.1)\n",
      "Requirement already satisfied: pillow>=6.2.0 in c:\\users\\admin\\anaconda3\\lib\\site-packages (from matplotlib) (10.2.0)\n",
      "Requirement already satisfied: pyparsing>=2.3.1 in c:\\users\\admin\\anaconda3\\lib\\site-packages (from matplotlib) (3.0.9)\n",
      "Requirement already satisfied: et_xmlfile in c:\\users\\admin\\anaconda3\\lib\\site-packages (from openpyxl) (1.1.0)\n",
      "Requirement already satisfied: six>=1.5 in c:\\users\\admin\\anaconda3\\lib\\site-packages (from python-dateutil>=2.8.2->pandas) (1.16.0)\n"
     ]
    }
   ],
   "source": [
    "!pip install pandas matplotlib seaborn openpyxl\n"
   ]
  },
  {
   "cell_type": "code",
   "execution_count": 27,
   "id": "fd354cfd-7356-4b56-80be-73a0e27588f9",
   "metadata": {},
   "outputs": [
    {
     "data": {
      "text/html": [
       "<div>\n",
       "<style scoped>\n",
       "    .dataframe tbody tr th:only-of-type {\n",
       "        vertical-align: middle;\n",
       "    }\n",
       "\n",
       "    .dataframe tbody tr th {\n",
       "        vertical-align: top;\n",
       "    }\n",
       "\n",
       "    .dataframe thead th {\n",
       "        text-align: right;\n",
       "    }\n",
       "</style>\n",
       "<table border=\"1\" class=\"dataframe\">\n",
       "  <thead>\n",
       "    <tr style=\"text-align: right;\">\n",
       "      <th></th>\n",
       "      <th>Conversion Rate (%)</th>\n",
       "      <th>Average Order Value ($)</th>\n",
       "      <th>Abandonment Rate (%)</th>\n",
       "      <th>Total Revenue ($)</th>\n",
       "    </tr>\n",
       "    <tr>\n",
       "      <th>offer_value</th>\n",
       "      <th></th>\n",
       "      <th></th>\n",
       "      <th></th>\n",
       "      <th></th>\n",
       "    </tr>\n",
       "  </thead>\n",
       "  <tbody>\n",
       "    <tr>\n",
       "      <th>25%</th>\n",
       "      <td>9.792033</td>\n",
       "      <td>402.23</td>\n",
       "      <td>90.207967</td>\n",
       "      <td>649606.16</td>\n",
       "    </tr>\n",
       "    <tr>\n",
       "      <th>Free Shipping</th>\n",
       "      <td>9.857932</td>\n",
       "      <td>400.25</td>\n",
       "      <td>90.142068</td>\n",
       "      <td>635995.66</td>\n",
       "    </tr>\n",
       "  </tbody>\n",
       "</table>\n",
       "</div>"
      ],
      "text/plain": [
       "               Conversion Rate (%)  Average Order Value ($)  \\\n",
       "offer_value                                                   \n",
       "25%                       9.792033                   402.23   \n",
       "Free Shipping             9.857932                   400.25   \n",
       "\n",
       "               Abandonment Rate (%)  Total Revenue ($)  \n",
       "offer_value                                             \n",
       "25%                       90.207967          649606.16  \n",
       "Free Shipping             90.142068          635995.66  "
      ]
     },
     "execution_count": 27,
     "metadata": {},
     "output_type": "execute_result"
    }
   ],
   "source": [
    "# Conversion Rate\n",
    "conversion = df.groupby(['offer_value', 'order_status'])['offer_id'].count().unstack().fillna(0)\n",
    "conversion['Conversion Rate (%)'] = (conversion.get('Completed', 0) / conversion.sum(axis=1)) * 100\n",
    "\n",
    "# AOV\n",
    "aov = df[df['order_status'] == 'Completed'].groupby('offer_value')['price'].mean().round(2)\n",
    "\n",
    "# Abandonment Rate\n",
    "abandon_rate = (df[df['order_status'] == 'Abandoned'].groupby('offer_value')['offer_id'].count() /\n",
    "                df.groupby('offer_value')['offer_id'].count()) * 100\n",
    "\n",
    "# Revenue\n",
    "revenue = df[df['order_status'] == 'Completed'].groupby('offer_value')['price'].sum().round(2)\n",
    "\n",
    "# Combine all\n",
    "summary = pd.concat([\n",
    "    conversion['Conversion Rate (%)'],\n",
    "    aov.rename('Average Order Value ($)'),\n",
    "    abandon_rate.rename('Abandonment Rate (%)'),\n",
    "    revenue.rename('Total Revenue ($)')\n",
    "], axis=1).fillna(0)\n",
    "\n",
    "summary\n"
   ]
  },
  {
   "cell_type": "code",
   "execution_count": 29,
   "id": "08dbfb07-b207-4700-aa35-78ab18f14e94",
   "metadata": {},
   "outputs": [
    {
     "data": {
      "image/png": "[encoded data removed]",
      "text/plain": [
       "<Figure size 800x500 with 1 Axes>"
      ]
     },
     "metadata": {},
     "output_type": "display_data"
    },
    {
     "data": {
      "image/png": "[encoded data removed]",
      "text/plain": [
       "<Figure size 800x500 with 1 Axes>"
      ]
     },
     "metadata": {},
     "output_type": "display_data"
    },
    {
     "data": {
      "image/png": "[encoded data removed]",
      "text/plain": [
       "<Figure size 800x500 with 1 Axes>"
      ]
     },
     "metadata": {},
     "output_type": "display_data"
    },
    {
     "data": {
      "image/png": "[encoded data removed]",
      "text/plain": [
       "<Figure size 800x500 with 1 Axes>"
      ]
     },
     "metadata": {},
     "output_type": "display_data"
    }
   ],
   "source": [
    "import seaborn as sns\n",
    "import matplotlib.pyplot as plt\n",
    "\n",
    "sns.set(style=\"whitegrid\")\n",
    "\n",
    "# Conversion Rate\n",
    "plt.figure(figsize=(8, 5))\n",
    "sns.barplot(data=summary.reset_index(), x='offer_value', y='Conversion Rate (%)', palette='viridis')\n",
    "plt.title('Conversion Rate by Offer Type')\n",
    "plt.show()\n",
    "\n",
    "# AOV\n",
    "plt.figure(figsize=(8, 5))\n",
    "sns.barplot(data=summary.reset_index(), x='offer_value', y='Average Order Value ($)', palette='Blues')\n",
    "plt.title('Average Order Value by Offer Type')\n",
    "plt.show()\n",
    "\n",
    "# Abandonment Rate\n",
    "plt.figure(figsize=(8, 5))\n",
    "sns.barplot(data=summary.reset_index(), x='offer_value', y='Abandonment Rate (%)', palette='Reds')\n",
    "plt.title('Cart Abandonment Rate by Offer Type')\n",
    "plt.show()\n",
    "\n",
    "# Revenue\n",
    "plt.figure(figsize=(8, 5))\n",
    "sns.barplot(data=summary.reset_index(), x='offer_value', y='Total Revenue ($)', palette='Greens')\n",
    "plt.title('Total Revenue by Offer Type')\n",
    "plt.show()\n"
   ]
  },
  {
   "cell_type": "code",
   "execution_count": 68,
   "id": "3ee36ae3-35f7-4dd2-bcd6-b165d27c3f22",
   "metadata": {},
   "outputs": [
    {
     "data": {
      "image/png": "[encoded data removed]",
      "text/plain": [
       "<Figure size 800x500 with 1 Axes>"
      ]
     },
     "metadata": {},
     "output_type": "display_data"
    }
   ],
   "source": [
    "# Conversion Rate\n",
    "plt.figure(figsize=(8, 5))\n",
    "sns.barplot(data=summary.reset_index(), x='offer_value', y='Conversion Rate (%)', palette='viridis')\n",
    "plt.title('Conversion Rate by Offer Type')\n",
    "plt.show()"
   ]
  },
  {
   "cell_type": "markdown",
   "id": "f7ef78f9-fade-4233-b047-e3f40daaca23",
   "metadata": {},
   "source": [
    "## Look for highest conversion rate vs. highest revenue.\n",
    "\n",
    "## Abandonment rate helps you see which offer loses the most customers.\n",
    "\n",
    "## AOV tells which promo brings more value per customer."
   ]
  },
  {
   "cell_type": "code",
   "execution_count": 31,
   "id": "6143a09a-defb-496a-85e7-42099df3090d",
   "metadata": {},
   "outputs": [
    {
     "name": "stdout",
     "output_type": "stream",
     "text": [
      "25% Discount - Mean: nan Count: 0\n",
      "Free Shipping - Mean: 400.24899937067335 Count: 1589\n"
     ]
    }
   ],
   "source": [
    "# Prepare Data for testing\n",
    "\n",
    "# Filter only completed orders\n",
    "completed = df[df['order_status'] == 'Completed']\n",
    "\n",
    "# Split into two groups\n",
    "discount_group = completed[completed['offer_value'] == '25% Discount']['price']\n",
    "shipping_group = completed[completed['offer_value'] == 'Free Shipping']['price']\n",
    "\n",
    "# View basic stats\n",
    "print(\"25% Discount - Mean:\", discount_group.mean(), \"Count:\", len(discount_group))\n",
    "print(\"Free Shipping - Mean:\", shipping_group.mean(), \"Count:\", len(shipping_group))\n"
   ]
  },
  {
   "cell_type": "code",
   "execution_count": 45,
   "id": "5a122255-0927-4cdd-8745-202a9984485c",
   "metadata": {},
   "outputs": [
    {
     "name": "stdout",
     "output_type": "stream",
     "text": [
      "T-statistic: nan\n",
      "P-value: nan\n",
      "Result: No statistically significant difference (Fail to reject H0)\n"
     ]
    }
   ],
   "source": [
    "# Run the test\n",
    "from scipy.stats import ttest_ind\n",
    "\n",
    "# Perform independent two-sample t-test\n",
    "t_stat, p_val = ttest_ind(discount_group, shipping_group, equal_var=False)\n",
    "\n",
    "print(\"T-statistic:\", t_stat)\n",
    "print(\"P-value:\", p_val)\n",
    "\n",
    "# Decision\n",
    "if p_val < 0.05:\n",
    "    print(\"Result: Statistically significant difference in means (Reject H0)\")\n",
    "else:\n",
    "    print(\"Result: No statistically significant difference (Fail to reject H0)\")\n"
   ]
  },
  {
   "cell_type": "code",
   "execution_count": 48,
   "id": "72913281-8d76-4b0f-ad4e-2cbfd31abb5d",
   "metadata": {},
   "outputs": [
    {
     "data": {
      "image/png": "[encoded data removed]",
      "text/plain": [
       "<Figure size 800x500 with 1 Axes>"
      ]
     },
     "metadata": {},
     "output_type": "display_data"
    }
   ],
   "source": [
    "## Exploratory Data Analysis\n",
    "\n",
    "import seaborn as sns\n",
    "import matplotlib.pyplot as plt\n",
    "\n",
    "plt.figure(figsize=(8, 5))\n",
    "sns.boxplot(x='offer_value', y='price', data=completed, palette='pastel')\n",
    "plt.title(\"Order Value Distribution: 25% Discount vs Free Shipping\")\n",
    "plt.ylabel(\"Order Price ($)\")\n",
    "plt.xlabel(\"Promotional Offer\")\n",
    "plt.show()\n"
   ]
  },
  {
   "cell_type": "markdown",
   "id": "0af3898b-dd7e-48e0-a1d8-a3649f4cfe81",
   "metadata": {},
   "source": [
    "#  Interpretation:\n",
    "# Metric Meaning\n",
    "# T-statistic Higher absolute values = greater difference between groups\n",
    "# P-value If < 0.05 → statistically significant (strong evidence of a difference)\n",
    "# Boxplot Helps visualize overlap and spread of order prices under each offer"
   ]
  },
  {
   "cell_type": "code",
   "execution_count": 56,
   "id": "40111e5b-b14e-49f8-b1e6-0a87441f0bdc",
   "metadata": {},
   "outputs": [
    {
     "data": {
      "text/plain": [
       "array(['Free Shipping', '25%'], dtype=object)"
      ]
     },
     "execution_count": 56,
     "metadata": {},
     "output_type": "execute_result"
    }
   ],
   "source": [
    "df['offer_value'].unique()\n"
   ]
  },
  {
   "cell_type": "code",
   "execution_count": 58,
   "id": "dd41a5ee-039f-4de4-8cf7-c61b42b51b50",
   "metadata": {},
   "outputs": [],
   "source": [
    "# Remove extra spaces, make consistent casing\n",
    "df['offer_value'] = df['offer_value'].str.strip().str.title()\n"
   ]
  },
  {
   "cell_type": "code",
   "execution_count": 60,
   "id": "9cccf832-5248-4f2c-9f47-8ac2bdc0a5a5",
   "metadata": {},
   "outputs": [
    {
     "name": "stdout",
     "output_type": "stream",
     "text": [
      "Z-statistic: -0.19989646392305968\n",
      "P-value: 0.8415615560129295\n",
      "Result: No significant difference in conversion rates\n"
     ]
    }
   ],
   "source": [
    "# Test if Free Shipping leads to significantly higher conversion than 25% Discount.\n",
    "from statsmodels.stats.proportion import proportions_ztest\n",
    "\n",
    "# Count conversions and total views per offer\n",
    "conversion_counts = df[df['order_status'] == 'Completed'].groupby('offer_value')['offer_id'].count()\n",
    "total_counts = df.groupby('offer_value')['offer_id'].count()\n",
    "\n",
    "# Ensure order: [25% Discount, Free Shipping]\n",
    "conversions = [conversion_counts['25%'], conversion_counts['Free Shipping']]\n",
    "totals = [total_counts['25%'], total_counts['Free Shipping']]\n",
    "\n",
    "# Run proportions z-test\n",
    "z_stat, p_val = proportions_ztest(conversions, totals)\n",
    "\n",
    "print(\"Z-statistic:\", z_stat)\n",
    "print(\"P-value:\", p_val)\n",
    "\n",
    "if p_val < 0.05:\n",
    "    print(\"Result: Statistically significant difference in conversion rates\")\n",
    "else:\n",
    "    print(\"Result: No significant difference in conversion rates\")\n"
   ]
  },
  {
   "cell_type": "code",
   "execution_count": 64,
   "id": "e499dd27-9f07-4a8a-bcdf-622233c462ca",
   "metadata": {},
   "outputs": [
    {
     "data": {
      "text/html": [
       "<div>\n",
       "<style scoped>\n",
       "    .dataframe tbody tr th:only-of-type {\n",
       "        vertical-align: middle;\n",
       "    }\n",
       "\n",
       "    .dataframe tbody tr th {\n",
       "        vertical-align: top;\n",
       "    }\n",
       "\n",
       "    .dataframe thead th {\n",
       "        text-align: right;\n",
       "    }\n",
       "</style>\n",
       "<table border=\"1\" class=\"dataframe\">\n",
       "  <thead>\n",
       "    <tr style=\"text-align: right;\">\n",
       "      <th>offer_value</th>\n",
       "      <th>25% Conv Rate</th>\n",
       "      <th>Free Shipping Conv Rate</th>\n",
       "    </tr>\n",
       "    <tr>\n",
       "      <th>loyalty_status</th>\n",
       "      <th></th>\n",
       "      <th></th>\n",
       "    </tr>\n",
       "  </thead>\n",
       "  <tbody>\n",
       "    <tr>\n",
       "      <th>Loyal</th>\n",
       "      <td>7.729469</td>\n",
       "      <td>7.788162</td>\n",
       "    </tr>\n",
       "    <tr>\n",
       "      <th>New</th>\n",
       "      <td>9.863516</td>\n",
       "      <td>9.953614</td>\n",
       "    </tr>\n",
       "    <tr>\n",
       "      <th>Occasional</th>\n",
       "      <td>8.695652</td>\n",
       "      <td>6.884058</td>\n",
       "    </tr>\n",
       "  </tbody>\n",
       "</table>\n",
       "</div>"
      ],
      "text/plain": [
       "offer_value     25% Conv Rate  Free Shipping Conv Rate\n",
       "loyalty_status                                        \n",
       "Loyal                7.729469                 7.788162\n",
       "New                  9.863516                 9.953614\n",
       "Occasional           8.695652                 6.884058"
      ]
     },
     "execution_count": 64,
     "metadata": {},
     "output_type": "execute_result"
    }
   ],
   "source": [
    "# Check if offer worked better for New, Loyal, or Occasional customers.\n",
    "\n",
    "segment_conv = df[df['order_status'] == 'Completed'].groupby(['loyalty_status', 'offer_value'])['offer_id'].count().unstack()\n",
    "segment_conv.fillna(0, inplace=True)\n",
    "segment_conv['Total'] = segment_conv.sum(axis=1)\n",
    "\n",
    "# Add conversion rate per segment\n",
    "for offer in ['25%', 'Free Shipping']:\n",
    "    total_by_offer = df[df['offer_value'] == offer].groupby('loyalty_status')['offer_id'].count()\n",
    "    segment_conv[f'{offer} Conv Rate'] = (segment_conv[offer] / total_by_offer) * 100\n",
    "\n",
    "segment_conv[['25% Conv Rate', 'Free Shipping Conv Rate']]\n"
   ]
  },
  {
   "cell_type": "code",
   "execution_count": 66,
   "id": "e17fd235-a69c-470e-b5bb-c50c7a2dc639",
   "metadata": {},
   "outputs": [
    {
     "name": "stdout",
     "output_type": "stream",
     "text": [
      "Revenue per Visit:\n",
      "25%: 39.39\n",
      "Free Shipping: 39.46\n"
     ]
    }
   ],
   "source": [
    "#Revenue per view = Completed order value / Total views for that offer.\n",
    "\n",
    "# Revenue per session\n",
    "revenue_per_offer = df[df['order_status'] == 'Completed'].groupby('offer_value')['price'].sum()\n",
    "views_per_offer = df.groupby('offer_value')['offer_id'].count()\n",
    "\n",
    "# Calculate revenue per visit\n",
    "rpv_discount = revenue_per_offer['25%'] / views_per_offer['25%']\n",
    "rpv_shipping = revenue_per_offer['Free Shipping'] / views_per_offer['Free Shipping']\n",
    "\n",
    "print(\"Revenue per Visit:\")\n",
    "print(\"25%:\", round(rpv_discount, 2))\n",
    "print(\"Free Shipping:\", round(rpv_shipping, 2))\n"
   ]
  },
  {
   "cell_type": "markdown",
   "id": "56354605-2fb8-4e56-a4cf-463c757c1855",
   "metadata": {},
   "source": [
    "## Summary Conclusion – Offer Performance Analysis\n",
    "\n",
    "Our analysis compared the 25% Discount offer with the Free Shipping offer to understand which drives better customer engagement and sales.\n",
    "\n",
    "Customer Views: Both offers attracted a similar number of views, with the 25% Discount slightly ahead.\n",
    "\n",
    "Conversion Rates: Free Shipping converted a higher percentage of visitors into paying customers compared to the 25% Discount.\n",
    "\n",
    "Average Order Value: Customers who used the 25% Discount spent slightly more per order than those who used Free Shipping.\n",
    "\n",
    "Abandonment Rate: A large share of visitors did not complete their purchases for both offers, but abandonment was slightly lower for Free Shipping\n",
    "\n",
    "Key Takeaway:\n",
    "Free Shipping is better at turning visitors into buyers, while the 25% Discount generates slightly higher spend per customer. Depending on business goals — higher sales volume vs. higher order value — we can adjust our promotional strategy, or test a combined offer for potentially better results."
   ]
  }
 ],
 "metadata": {
  "kernelspec": {
   "display_name": "Python 3 (ipykernel)",
   "language": "python",
   "name": "python3"
  },
  "language_info": {
   "codemirror_mode": {
    "name": "ipython",
    "version": 3
   },
   "file_extension": ".py",
   "mimetype": "text/x-python",
   "name": "python",
   "nbconvert_exporter": "python",
   "pygments_lexer": "ipython3",
   "version": "3.11.7"
  }
 },
 "nbformat": 4,
 "nbformat_minor": 5
}
